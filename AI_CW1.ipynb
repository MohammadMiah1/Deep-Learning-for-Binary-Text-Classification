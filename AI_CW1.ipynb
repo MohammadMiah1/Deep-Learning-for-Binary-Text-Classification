{
  "nbformat": 4,
  "nbformat_minor": 0,
  "metadata": {
    "colab": {
      "name": "AI CW1.ipynb",
      "provenance": [],
      "collapsed_sections": []
    },
    "kernelspec": {
      "name": "python3",
      "display_name": "Python 3"
    },
    "language_info": {
      "name": "python"
    }
  },
  "cells": [
    {
      "cell_type": "markdown",
      "metadata": {
        "id": "vcd8Qqzz6iGx"
      },
      "source": [
        "# Mohammad Farhaj Miah Coursework 1"
      ]
    },
    {
      "cell_type": "markdown",
      "metadata": {
        "id": "znr1-w_N6nd_"
      },
      "source": [
        "## Introduction"
      ]
    },
    {
      "cell_type": "markdown",
      "metadata": {
        "id": "6StLkjiX6qAe"
      },
      "source": [
        "### Defining the problem"
      ]
    },
    {
      "cell_type": "markdown",
      "metadata": {
        "id": "jWM8dO696uS3"
      },
      "source": [
        "My input data will be from the IMDB dataset. This dataset consists of 50000 highly polarised textual movie reviews labeled positive/negative. It will be split into two sets, with 25000 samples for the training set and 25000 samples for the testing set. Each set has 50% positive and 50% negative reviews. The input data will be structured into elements which are made up of two variables, labels and text. I will be trying to predict whether the worded reviews are positive or negative. To do this I will be downloading the top 10000 most frequent words. With this, I believe the available data is sufficient to solve this problem because the data contains predictive information. Rare words will be represented with a ?. This is a binary classification problem as there were only two classes for the model to learn to categorize between. This means the optimum loss function should be binary-crossentropy, although I will be testing different loss functions and comparing results. As it is a binary classification problem, my models will end with a single unit layer with sigmoid activation.\n",
        "\n",
        "Early hypothesis:\n",
        "\n",
        " - The output can be predicted given the inputs\n",
        " \n",
        " - The available data is sufficiently informative to learn the relationship between inputs and outputs"
      ]
    },
    {
      "cell_type": "markdown",
      "metadata": {
        "id": "02ZeFX2-6z8t"
      },
      "source": [
        "### Measure of success"
      ]
    },
    {
      "cell_type": "markdown",
      "metadata": {
        "id": "u4L1CSZ062R9"
      },
      "source": [
        "For this problem, the measure of success is graded by the accuracy of the result. The accuracy will be calculated by the ratio: number of correct predictions/total number of input samples, so my model will be optimizing the accuracy. A low loss quantity will also represent success. However, when scaling the model I will be focusing on the loss to identify when the model overfits."
      ]
    },
    {
      "cell_type": "markdown",
      "metadata": {
        "id": "XLdPfm0B65Be"
      },
      "source": [
        "### Deciding the Evaluation protocol"
      ]
    },
    {
      "cell_type": "markdown",
      "metadata": {
        "id": "0i8UNMzM691G"
      },
      "source": [
        "The evaluation protocol I am choosing is the hold-out validation set. I am choosing this because the IMDB dataset is big enough to provide reliable results without the use of K-Fold validation. To use hold-out validation, a seperate validation set was comprised of the first 10000 reviews from the training set, while the partial training set was made up of the remaining 15000 reviews from the training set."
      ]
    },
    {
      "cell_type": "markdown",
      "metadata": {
        "id": "axBEw4Rm7DlE"
      },
      "source": [
        "## Methodology"
      ]
    },
    {
      "cell_type": "markdown",
      "metadata": {
        "id": "jjEuEzhw7GAj"
      },
      "source": [
        "### Preparing the data"
      ]
    },
    {
      "cell_type": "markdown",
      "metadata": {
        "id": "B-nvFo1D7IKA"
      },
      "source": [
        "This code is used to prepare and load the data set. As stated in the introduction, only 10000 of the most frequently used words are kept, as shown with 'num_words=10000'.\n",
        "\n",
        "train_data - data that will be used to train the model\n",
        "test_data = data that will be used to test the model\n",
        "\n",
        "train_labels and test_labels will represent whether a review is negative or positive, with 0s and 1s.\n",
        "\n",
        "x_val and y_val - validation set containing 10000 samples. Used to validate the models progress\n",
        "\n",
        "partial_x_train and partial_y_train - contains 15000 samples and is used to train the network\n",
        "\n",
        "To prepare the data, we need to format it in a way that can be fed into a machine-learning model. To do this, the data should be formatted into tensors. This means the values should be scaled to small values such as floating-point numbers. To do this we can use one-hot encoding."
      ]
    },
    {
      "cell_type": "code",
      "metadata": {
        "colab": {
          "base_uri": "https://localhost:8080/"
        },
        "id": "cufDUeWs7Psu",
        "outputId": "b278e6b7-6bea-4a00-d668-48626c40a765"
      },
      "source": [
        "# Code from DLWP\n",
        "from keras.datasets import imdb\n",
        "import numpy as np\n",
        "\n",
        "# Encoding the integer sequences into a binary matrix\n",
        "def vectorize_sequences(sequences, dimension = 10000):\n",
        "    results = np.zeros( (len(sequences), dimension) )\n",
        "    for i, sequence in enumerate(sequences):\n",
        "        results[i, sequence] = 1.\n",
        "    return results\n",
        "\n",
        "# load the IMDB dataset\n",
        "((train_data, train_labels), (test_data, test_labels)) = imdb.load_data(num_words = 10000)\n",
        "\n",
        "# This is the vectorized training and test data. The vectorized data then being assigned to x_train and x_test\n",
        "x_train = vectorize_sequences(train_data)\n",
        "x_test = vectorize_sequences(test_data)\n",
        "\n",
        "# This is the vectorized labels. Being vectorized as the float32 data type\n",
        "y_train = np.asarray(train_labels).astype('float32')\n",
        "y_test = np.asarray(test_labels).astype('float32')\n",
        "\n",
        "# Setting aside a validation set\n",
        "x_val = x_train[:10000]\n",
        "partial_x_train = x_train[10000:]\n",
        "y_val = y_train[:10000]\n",
        "partial_y_train = y_train[10000:]"
      ],
      "execution_count": 2,
      "outputs": [
        {
          "output_type": "stream",
          "name": "stdout",
          "text": [
            "Downloading data from https://storage.googleapis.com/tensorflow/tf-keras-datasets/imdb.npz\n",
            "17465344/17464789 [==============================] - 0s 0us/step\n",
            "17473536/17464789 [==============================] - 0s 0us/step\n"
          ]
        }
      ]
    },
    {
      "cell_type": "markdown",
      "metadata": {
        "id": "7kd1AJSP7ZBF"
      },
      "source": [
        "This code one-hot encodes the samples and converts the layers to floating-point value tensors by turning them into vectors of 0s and 1s. Check comments of code to see assignments of data. This is how a sample looks now."
      ]
    },
    {
      "cell_type": "code",
      "metadata": {
        "colab": {
          "base_uri": "https://localhost:8080/"
        },
        "id": "N36KcdEX7cMg",
        "outputId": "906924e5-d221-4f01-fbec-35f06dea5033"
      },
      "source": [
        "x_train[0]"
      ],
      "execution_count": 4,
      "outputs": [
        {
          "output_type": "execute_result",
          "data": {
            "text/plain": [
              "array([0., 1., 1., ..., 0., 0., 0.])"
            ]
          },
          "metadata": {},
          "execution_count": 4
        }
      ]
    },
    {
      "cell_type": "markdown",
      "metadata": {
        "id": "GvHxe5ke7oGw"
      },
      "source": [
        "Now we are ready to train models."
      ]
    },
    {
      "cell_type": "markdown",
      "metadata": {
        "id": "l_BqBfu97q14"
      },
      "source": [
        "### Building the first model"
      ]
    },
    {
      "cell_type": "markdown",
      "metadata": {
        "id": "cYRPST8s7t4V"
      },
      "source": [
        "For our first model, the goal is to do better than the baseline. For IMDB the baseline is an accuracy of 50%. For this problem, I will be using Dense layers. This is because Dense layers can perform well with input data of vectors and labels of scalars.\n",
        "\n",
        "To start, I have decided to use 1 intermediate layer with 8 hidden units and a final layer that will output the scalar prediction regarding the sentiment of the current review. The first intermediate layer will use Relu activation and the final layer will use sigmoid activation, so it can output a probability.\n",
        "\n",
        "Because we are facing a binary classification problem and the output of the network is a probability, it's best to use the binary-crossentropy loss function. The optimizer I will be using is rmsprop with the default learning rate.\n",
        "\n",
        "I will be creating a validation set by setting apart 10000 samples from the original training data. This is so the network is always working with data it has never seen before for more accurate results.\n",
        "\n",
        "I will be training the model for 20 epochs in mini-batches of 512 samples\n",
        "\n",
        "After each model I will be plotting graphs on both loss and accuracy."
      ]
    },
    {
      "cell_type": "code",
      "metadata": {
        "colab": {
          "base_uri": "https://localhost:8080/"
        },
        "id": "TR8fGmjW7yZZ",
        "outputId": "583b0911-411b-4884-93df-5c6ee9644fd9"
      },
      "source": [
        "# Code from DLWP book with my own adjustments\n",
        "from keras import models\n",
        "from keras import layers\n",
        "\n",
        "# The model definition, adding layers\n",
        "model = models.Sequential()\n",
        "model.add(layers.Dense(8, activation = 'relu', input_shape = (10000,)))\n",
        "model.add(layers.Dense(1, activation = 'sigmoid'))\n",
        "\n",
        "# Compiling the model with a loss function and an optimizer\n",
        "model.compile(optimizer='rmsprop',\n",
        "             loss='binary_crossentropy',\n",
        "             metrics=['accuracy'])\n",
        "\n",
        "# Training the model\n",
        "history = model.fit(partial_x_train, \n",
        "                    partial_y_train,\n",
        "                    epochs = 20,\n",
        "                    batch_size = 512,\n",
        "                    validation_data = (x_val, y_val))"
      ],
      "execution_count": 3,
      "outputs": [
        {
          "output_type": "stream",
          "name": "stdout",
          "text": [
            "Epoch 1/20\n",
            "30/30 [==============================] - 3s 49ms/step - loss: 0.5077 - accuracy: 0.7871 - val_loss: 0.3940 - val_accuracy: 0.8720\n",
            "Epoch 2/20\n",
            "30/30 [==============================] - 1s 35ms/step - loss: 0.3229 - accuracy: 0.9032 - val_loss: 0.3266 - val_accuracy: 0.8835\n",
            "Epoch 3/20\n",
            "30/30 [==============================] - 1s 34ms/step - loss: 0.2523 - accuracy: 0.9243 - val_loss: 0.2979 - val_accuracy: 0.8870\n",
            "Epoch 4/20\n",
            "30/30 [==============================] - 1s 34ms/step - loss: 0.2090 - accuracy: 0.9395 - val_loss: 0.2812 - val_accuracy: 0.8893\n",
            "Epoch 5/20\n",
            "30/30 [==============================] - 1s 35ms/step - loss: 0.1800 - accuracy: 0.9465 - val_loss: 0.2783 - val_accuracy: 0.8895\n",
            "Epoch 6/20\n",
            "30/30 [==============================] - 1s 35ms/step - loss: 0.1573 - accuracy: 0.9557 - val_loss: 0.2751 - val_accuracy: 0.8895\n",
            "Epoch 7/20\n",
            "30/30 [==============================] - 1s 35ms/step - loss: 0.1385 - accuracy: 0.9610 - val_loss: 0.2907 - val_accuracy: 0.8808\n",
            "Epoch 8/20\n",
            "30/30 [==============================] - 1s 35ms/step - loss: 0.1226 - accuracy: 0.9671 - val_loss: 0.2823 - val_accuracy: 0.8875\n",
            "Epoch 9/20\n",
            "30/30 [==============================] - 1s 35ms/step - loss: 0.1107 - accuracy: 0.9697 - val_loss: 0.2890 - val_accuracy: 0.8831\n",
            "Epoch 10/20\n",
            "30/30 [==============================] - 1s 34ms/step - loss: 0.0990 - accuracy: 0.9757 - val_loss: 0.2958 - val_accuracy: 0.8832\n",
            "Epoch 11/20\n",
            "30/30 [==============================] - 1s 35ms/step - loss: 0.0882 - accuracy: 0.9795 - val_loss: 0.3054 - val_accuracy: 0.8806\n",
            "Epoch 12/20\n",
            "30/30 [==============================] - 1s 35ms/step - loss: 0.0798 - accuracy: 0.9813 - val_loss: 0.3162 - val_accuracy: 0.8830\n",
            "Epoch 13/20\n",
            "30/30 [==============================] - 1s 38ms/step - loss: 0.0720 - accuracy: 0.9837 - val_loss: 0.3251 - val_accuracy: 0.8801\n",
            "Epoch 14/20\n",
            "30/30 [==============================] - 1s 35ms/step - loss: 0.0652 - accuracy: 0.9860 - val_loss: 0.3357 - val_accuracy: 0.8787\n",
            "Epoch 15/20\n",
            "30/30 [==============================] - 1s 35ms/step - loss: 0.0582 - accuracy: 0.9881 - val_loss: 0.3492 - val_accuracy: 0.8775\n",
            "Epoch 16/20\n",
            "30/30 [==============================] - 1s 35ms/step - loss: 0.0524 - accuracy: 0.9898 - val_loss: 0.3651 - val_accuracy: 0.8749\n",
            "Epoch 17/20\n",
            "30/30 [==============================] - 1s 35ms/step - loss: 0.0477 - accuracy: 0.9914 - val_loss: 0.3756 - val_accuracy: 0.8769\n",
            "Epoch 18/20\n",
            "30/30 [==============================] - 1s 34ms/step - loss: 0.0431 - accuracy: 0.9927 - val_loss: 0.4026 - val_accuracy: 0.8682\n",
            "Epoch 19/20\n",
            "30/30 [==============================] - 1s 35ms/step - loss: 0.0388 - accuracy: 0.9943 - val_loss: 0.3981 - val_accuracy: 0.8748\n",
            "Epoch 20/20\n",
            "30/30 [==============================] - 1s 35ms/step - loss: 0.0352 - accuracy: 0.9950 - val_loss: 0.4135 - val_accuracy: 0.8731\n"
          ]
        }
      ]
    },
    {
      "cell_type": "code",
      "metadata": {
        "colab": {
          "base_uri": "https://localhost:8080/"
        },
        "id": "iqYcx4UL9HGe",
        "outputId": "01ca3d51-9251-462b-cef5-577c0b4d9f0f"
      },
      "source": [
        "# History contains data from the training. It is used to retrieve the keys.\n",
        "history_dict = history.history\n",
        "history_dict.keys()"
      ],
      "execution_count": 6,
      "outputs": [
        {
          "output_type": "execute_result",
          "data": {
            "text/plain": [
              "dict_keys(['loss', 'accuracy', 'val_loss', 'val_accuracy'])"
            ]
          },
          "metadata": {},
          "execution_count": 6
        }
      ]
    },
    {
      "cell_type": "code",
      "metadata": {
        "colab": {
          "base_uri": "https://localhost:8080/",
          "height": 295
        },
        "id": "2I-lVviO9S-i",
        "outputId": "deea8297-ca7b-421f-dd70-63c2ab5cb6c2"
      },
      "source": [
        "import matplotlib.pyplot as plt\n",
        "\n",
        "# This code is from the DLWP Book   \n",
        "def plot_loss():\n",
        "\n",
        "    history_dict = history.history\n",
        "    loss = history_dict['loss']\n",
        "    val_loss = history_dict['val_loss']\n",
        "\n",
        "    epochs = range(1, len(loss) + 1)\n",
        "\n",
        "    blue_dots = 'bo'\n",
        "    solid_blue_line = 'b'\n",
        "\n",
        "    plt.plot(epochs, loss, blue_dots, label = 'Training loss')\n",
        "    plt.plot(epochs, val_loss, solid_blue_line, label = 'Validation loss')\n",
        "    plt.title('Training and Validation loss')\n",
        "    plt.xlabel('Epochs')\n",
        "    plt.ylabel('Loss')\n",
        "    plt.legend()\n",
        "    plt.show()\n",
        "    \n",
        "plot_loss()"
      ],
      "execution_count": 7,
      "outputs": [
        {
          "output_type": "display_data",
          "data": {
            "image/png": "[encoded data removed]",
            "text/plain": [
              "<Figure size 432x288 with 1 Axes>"
            ]
          },
          "metadata": {
            "needs_background": "light"
          }
        }
      ]
    },
    {
      "cell_type": "code",
      "metadata": {
        "colab": {
          "base_uri": "https://localhost:8080/",
          "height": 295
        },
        "id": "DOasgrZs9YhS",
        "outputId": "66f86617-3751-4e49-bdf1-ea55f6e91868"
      },
      "source": [
        "# This code is from the DLWP Book\n",
        "def plot_acc():\n",
        "    \n",
        "    plt.clf()\n",
        "\n",
        "    acc = history_dict['accuracy']\n",
        "    val_acc = history_dict['val_accuracy']\n",
        "    \n",
        "    epochs = range(1, len(acc) + 1)\n",
        "    \n",
        "    plt.plot(epochs, acc, 'bo', label = 'Training acc')\n",
        "    plt.plot(epochs, val_acc, 'b', label = 'Validation acc')\n",
        "    plt.title('Training and validation accuracy')\n",
        "    plt.xlabel('Epochs')\n",
        "    plt.ylabel('Accuracy')\n",
        "    plt.legend()\n",
        "\n",
        "    plt.show()\n",
        "    \n",
        "plot_acc()"
      ],
      "execution_count": 8,
      "outputs": [
        {
          "output_type": "display_data",
          "data": {
            "image/png": "[encoded data removed]",
            "text/plain": [
              "<Figure size 432x288 with 1 Axes>"
            ]
          },
          "metadata": {
            "needs_background": "light"
          }
        }
      ]
    },
    {
      "cell_type": "markdown",
      "metadata": {
        "id": "iVaxsvtv9lxd"
      },
      "source": [
        "The lowest validation loss for this model was a little less than 0.3% at around 6 epochs. After this, it increases and I can see some overfitting with this model. The highest validation accuracy for this model was around 89% at around 5 epochs. After this, it decreases slowly which suggest overfitting again.\n",
        "\n",
        "The aim for this model was to achieve statistical power. This means achieving accuracy higher than the baseline. For this investigation the baseline is 50%. Therefore, this model was successful as it reached an accuracy of 89%"
      ]
    },
    {
      "cell_type": "markdown",
      "metadata": {
        "id": "4dz_VAd2_VgO"
      },
      "source": [
        "|    Model    |    Results    |\n",
        "|--------|--------|\n",
        "|    Baseline: 2 layers, 8,1 units    |     Highest loss: 0.3%, Highest accuracy: 89%, Some overfitting   |"
      ]
    },
    {
      "cell_type": "markdown",
      "metadata": {
        "id": "4z7qLZWp__3w"
      },
      "source": [
        "### Scaling up: Making a model that overfits"
      ]
    },
    {
      "cell_type": "markdown",
      "metadata": {
        "id": "7G3nIEEcAID4"
      },
      "source": [
        "The previous model did achieve statistical power, but it might not be powerful enough to model the problem to its best. To solve this, I will build a bigger model by increasing the hidden units to 16. This will cause the model to overfit. When the model begins to overfit, I can then stop the network and adjust the model and regularise it to resolve the overfitting. The number of epochs and batch size will remain the same."
      ]
    },
    {
      "cell_type": "code",
      "metadata": {
        "colab": {
          "base_uri": "https://localhost:8080/"
        },
        "id": "fW6bjA3WBXw8",
        "outputId": "032fb091-7258-4689-fa6d-c6ed94cf6b21"
      },
      "source": [
        "# The model definition, adding layers\n",
        "model = models.Sequential()\n",
        "model.add(layers.Dense(16, activation = 'relu', input_shape = (10000,)))\n",
        "model.add(layers.Dense(1, activation = 'sigmoid'))\n",
        "\n",
        "# Compiling the model with a loss function and an optimizer\n",
        "model.compile(optimizer='rmsprop',\n",
        "             loss='binary_crossentropy',\n",
        "             metrics=['accuracy'])\n",
        "\n",
        "# Training the model\n",
        "history = model.fit(partial_x_train, \n",
        "                    partial_y_train,\n",
        "                    epochs = 20,\n",
        "                    batch_size = 512,\n",
        "                    validation_data = (x_val, y_val))"
      ],
      "execution_count": 10,
      "outputs": [
        {
          "output_type": "stream",
          "name": "stdout",
          "text": [
            "Epoch 1/20\n",
            "30/30 [==============================] - 1s 29ms/step - loss: 0.4886 - accuracy: 0.7936 - val_loss: 0.3901 - val_accuracy: 0.8585\n",
            "Epoch 2/20\n",
            "30/30 [==============================] - 1s 21ms/step - loss: 0.3050 - accuracy: 0.9053 - val_loss: 0.3143 - val_accuracy: 0.8859\n",
            "Epoch 3/20\n",
            "30/30 [==============================] - 1s 22ms/step - loss: 0.2376 - accuracy: 0.9249 - val_loss: 0.3065 - val_accuracy: 0.8797\n",
            "Epoch 4/20\n",
            "30/30 [==============================] - 1s 21ms/step - loss: 0.1947 - accuracy: 0.9410 - val_loss: 0.2776 - val_accuracy: 0.8887\n",
            "Epoch 5/20\n",
            "30/30 [==============================] - 1s 21ms/step - loss: 0.1668 - accuracy: 0.9495 - val_loss: 0.2764 - val_accuracy: 0.8864\n",
            "Epoch 6/20\n",
            "30/30 [==============================] - 1s 21ms/step - loss: 0.1433 - accuracy: 0.9584 - val_loss: 0.3160 - val_accuracy: 0.8733\n",
            "Epoch 7/20\n",
            "30/30 [==============================] - 1s 21ms/step - loss: 0.1249 - accuracy: 0.9646 - val_loss: 0.2819 - val_accuracy: 0.8867\n",
            "Epoch 8/20\n",
            "30/30 [==============================] - 1s 21ms/step - loss: 0.1090 - accuracy: 0.9701 - val_loss: 0.2912 - val_accuracy: 0.8853\n",
            "Epoch 9/20\n",
            "30/30 [==============================] - 1s 20ms/step - loss: 0.0964 - accuracy: 0.9746 - val_loss: 0.3037 - val_accuracy: 0.8845\n",
            "Epoch 10/20\n",
            "30/30 [==============================] - 1s 21ms/step - loss: 0.0846 - accuracy: 0.9796 - val_loss: 0.3159 - val_accuracy: 0.8838\n",
            "Epoch 11/20\n",
            "30/30 [==============================] - 1s 21ms/step - loss: 0.0747 - accuracy: 0.9818 - val_loss: 0.3262 - val_accuracy: 0.8820\n",
            "Epoch 12/20\n",
            "30/30 [==============================] - 1s 21ms/step - loss: 0.0662 - accuracy: 0.9857 - val_loss: 0.3440 - val_accuracy: 0.8770\n",
            "Epoch 13/20\n",
            "30/30 [==============================] - 1s 21ms/step - loss: 0.0580 - accuracy: 0.9883 - val_loss: 0.3685 - val_accuracy: 0.8769\n",
            "Epoch 14/20\n",
            "30/30 [==============================] - 1s 20ms/step - loss: 0.0521 - accuracy: 0.9900 - val_loss: 0.3853 - val_accuracy: 0.8750\n",
            "Epoch 15/20\n",
            "30/30 [==============================] - 1s 21ms/step - loss: 0.0459 - accuracy: 0.9912 - val_loss: 0.3893 - val_accuracy: 0.8767\n",
            "Epoch 16/20\n",
            "30/30 [==============================] - 1s 22ms/step - loss: 0.0408 - accuracy: 0.9929 - val_loss: 0.4023 - val_accuracy: 0.8751\n",
            "Epoch 17/20\n",
            "30/30 [==============================] - 1s 22ms/step - loss: 0.0354 - accuracy: 0.9943 - val_loss: 0.4302 - val_accuracy: 0.8740\n",
            "Epoch 18/20\n",
            "30/30 [==============================] - 1s 21ms/step - loss: 0.0309 - accuracy: 0.9959 - val_loss: 0.4420 - val_accuracy: 0.8701\n",
            "Epoch 19/20\n",
            "30/30 [==============================] - 1s 21ms/step - loss: 0.0275 - accuracy: 0.9966 - val_loss: 0.4625 - val_accuracy: 0.8703\n",
            "Epoch 20/20\n",
            "30/30 [==============================] - 1s 22ms/step - loss: 0.0236 - accuracy: 0.9971 - val_loss: 0.4872 - val_accuracy: 0.8708\n"
          ]
        }
      ]
    },
    {
      "cell_type": "code",
      "metadata": {
        "colab": {
          "base_uri": "https://localhost:8080/",
          "height": 295
        },
        "id": "wphwbvY3BtSN",
        "outputId": "89e1144a-85b3-4785-f9d9-92d72cdbb06b"
      },
      "source": [
        "plot_loss()"
      ],
      "execution_count": 11,
      "outputs": [
        {
          "output_type": "display_data",
          "data": {
            "image/png": "[encoded data removed]",
            "text/plain": [
              "<Figure size 432x288 with 1 Axes>"
            ]
          },
          "metadata": {
            "needs_background": "light"
          }
        }
      ]
    },
    {
      "cell_type": "code",
      "metadata": {
        "colab": {
          "base_uri": "https://localhost:8080/",
          "height": 295
        },
        "id": "O8mW6_6aBwCt",
        "outputId": "2ad9ea9c-15a4-4cd6-b08d-fbf3f7f25461"
      },
      "source": [
        "plot_acc()"
      ],
      "execution_count": 12,
      "outputs": [
        {
          "output_type": "display_data",
          "data": {
            "image/png": "[encoded data removed]",
            "text/plain": [
              "<Figure size 432x288 with 1 Axes>"
            ]
          },
          "metadata": {
            "needs_background": "light"
          }
        }
      ]
    },
    {
      "cell_type": "markdown",
      "metadata": {
        "id": "pmRtgrVeB0TT"
      },
      "source": [
        "This model had the lowest loss at just below 0.3% and the highest accuracy at around 88.9%. As expected this is very similar to the last model. However, this models loss drastically increases to 0.5% showing this model has experienced much more overfitting than the previous model."
      ]
    },
    {
      "cell_type": "markdown",
      "metadata": {
        "id": "c49bZCi8Cnbd"
      },
      "source": [
        "|    Model    |    Results    |\n",
        "|--------|--------|\n",
        "|   #1 Baseline: 2 layers, 8,1 units    |     Lowest loss: 0.3%, Highest accuracy: 89%, Some overfitting   |\n",
        "|    #2 Scaling up: 2 layers, 16,1 units    |    Lowest loss: 0.3%, Highest accuracy: 88.9%, Much more overfitting    |"
      ]
    },
    {
      "cell_type": "markdown",
      "metadata": {
        "id": "sHI3bs0oDWQO"
      },
      "source": [
        "### Regularizing the model and tuning hyperparameters"
      ]
    },
    {
      "cell_type": "markdown",
      "metadata": {
        "id": "8dluxWQDDbMq"
      },
      "source": [
        "As there was a lot of overfitting in the previous model, it is required to implement regularization and tune model until the best model is found.\n",
        "\n",
        "The first thing I will be doing is adding a new hyperparameter. A dropout layer. Dropout is one of the most effective regularisation techniques. Dropout will randomly drop out a number of output features of the layer during training. For example, during test time, the layers output values wil be scaled down by a factor equal to the dropout rate. The dropout rate is the fraction of the features that are dropped out.\n",
        "\n",
        "I will be scaling the dropout by 0.5. I will be adding it between the Dense layers, in hopes it will reduce the overfitting."
      ]
    },
    {
      "cell_type": "code",
      "metadata": {
        "colab": {
          "base_uri": "https://localhost:8080/"
        },
        "id": "oNPMrhH_EW8b",
        "outputId": "eeafdc60-0bea-4c14-b482-b8a6d934be20"
      },
      "source": [
        "# The model definition, adding layers\n",
        "model = models.Sequential()\n",
        "model.add(layers.Dense(16, activation = 'relu', input_shape = (10000,)))\n",
        "model.add(layers.Dropout(0.5))\n",
        "model.add(layers.Dense(1, activation = 'sigmoid'))\n",
        "\n",
        "# Compiling the model with a loss function and an optimizer\n",
        "model.compile(optimizer='rmsprop',\n",
        "             loss='binary_crossentropy',\n",
        "             metrics=['accuracy'])\n",
        "\n",
        "# Training the model\n",
        "history = model.fit(partial_x_train, \n",
        "                    partial_y_train,\n",
        "                    epochs = 20,\n",
        "                    batch_size = 512,\n",
        "                    validation_data = (x_val, y_val))"
      ],
      "execution_count": 13,
      "outputs": [
        {
          "output_type": "stream",
          "name": "stdout",
          "text": [
            "Epoch 1/20\n",
            "30/30 [==============================] - 1s 28ms/step - loss: 0.5601 - accuracy: 0.7379 - val_loss: 0.4400 - val_accuracy: 0.8599\n",
            "Epoch 2/20\n",
            "30/30 [==============================] - 1s 20ms/step - loss: 0.4033 - accuracy: 0.8522 - val_loss: 0.3620 - val_accuracy: 0.8760\n",
            "Epoch 3/20\n",
            "30/30 [==============================] - 1s 20ms/step - loss: 0.3349 - accuracy: 0.8832 - val_loss: 0.3229 - val_accuracy: 0.8834\n",
            "Epoch 4/20\n",
            "30/30 [==============================] - 1s 20ms/step - loss: 0.2889 - accuracy: 0.9012 - val_loss: 0.3052 - val_accuracy: 0.8844\n",
            "Epoch 5/20\n",
            "30/30 [==============================] - 1s 20ms/step - loss: 0.2524 - accuracy: 0.9167 - val_loss: 0.2844 - val_accuracy: 0.8890\n",
            "Epoch 6/20\n",
            "30/30 [==============================] - 1s 20ms/step - loss: 0.2297 - accuracy: 0.9257 - val_loss: 0.2769 - val_accuracy: 0.8886\n",
            "Epoch 7/20\n",
            "30/30 [==============================] - 1s 20ms/step - loss: 0.2078 - accuracy: 0.9339 - val_loss: 0.2800 - val_accuracy: 0.8889\n",
            "Epoch 8/20\n",
            "30/30 [==============================] - 1s 20ms/step - loss: 0.1891 - accuracy: 0.9411 - val_loss: 0.2727 - val_accuracy: 0.8898\n",
            "Epoch 9/20\n",
            "30/30 [==============================] - 1s 20ms/step - loss: 0.1718 - accuracy: 0.9467 - val_loss: 0.3155 - val_accuracy: 0.8786\n",
            "Epoch 10/20\n",
            "30/30 [==============================] - 1s 21ms/step - loss: 0.1594 - accuracy: 0.9520 - val_loss: 0.2973 - val_accuracy: 0.8842\n",
            "Epoch 11/20\n",
            "30/30 [==============================] - 1s 20ms/step - loss: 0.1458 - accuracy: 0.9571 - val_loss: 0.2851 - val_accuracy: 0.8889\n",
            "Epoch 12/20\n",
            "30/30 [==============================] - 1s 21ms/step - loss: 0.1359 - accuracy: 0.9589 - val_loss: 0.3064 - val_accuracy: 0.8862\n",
            "Epoch 13/20\n",
            "30/30 [==============================] - 1s 20ms/step - loss: 0.1228 - accuracy: 0.9659 - val_loss: 0.2989 - val_accuracy: 0.8871\n",
            "Epoch 14/20\n",
            "30/30 [==============================] - 1s 20ms/step - loss: 0.1181 - accuracy: 0.9671 - val_loss: 0.3019 - val_accuracy: 0.8842\n",
            "Epoch 15/20\n",
            "30/30 [==============================] - 1s 20ms/step - loss: 0.1090 - accuracy: 0.9691 - val_loss: 0.3143 - val_accuracy: 0.8867\n",
            "Epoch 16/20\n",
            "30/30 [==============================] - 1s 21ms/step - loss: 0.0992 - accuracy: 0.9731 - val_loss: 0.3187 - val_accuracy: 0.8852\n",
            "Epoch 17/20\n",
            "30/30 [==============================] - 1s 20ms/step - loss: 0.0954 - accuracy: 0.9755 - val_loss: 0.3358 - val_accuracy: 0.8851\n",
            "Epoch 18/20\n",
            "30/30 [==============================] - 1s 21ms/step - loss: 0.0874 - accuracy: 0.9761 - val_loss: 0.3500 - val_accuracy: 0.8840\n",
            "Epoch 19/20\n",
            "30/30 [==============================] - 1s 21ms/step - loss: 0.0815 - accuracy: 0.9798 - val_loss: 0.3512 - val_accuracy: 0.8831\n",
            "Epoch 20/20\n",
            "30/30 [==============================] - 1s 21ms/step - loss: 0.0732 - accuracy: 0.9819 - val_loss: 0.3597 - val_accuracy: 0.8817\n"
          ]
        }
      ]
    },
    {
      "cell_type": "code",
      "metadata": {
        "colab": {
          "base_uri": "https://localhost:8080/",
          "height": 295
        },
        "id": "GQDxbMdPEpcs",
        "outputId": "d34937a1-97cd-4be9-f6be-6d22472546df"
      },
      "source": [
        "plot_loss()"
      ],
      "execution_count": 14,
      "outputs": [
        {
          "output_type": "display_data",
          "data": {
            "image/png": "[encoded data removed]",
            "text/plain": [
              "<Figure size 432x288 with 1 Axes>"
            ]
          },
          "metadata": {
            "needs_background": "light"
          }
        }
      ]
    },
    {
      "cell_type": "code",
      "metadata": {
        "colab": {
          "base_uri": "https://localhost:8080/",
          "height": 295
        },
        "id": "8-3Ac4jrEujL",
        "outputId": "f79d885a-b9f2-4677-f9d8-904b7d631691"
      },
      "source": [
        "plot_acc()"
      ],
      "execution_count": 15,
      "outputs": [
        {
          "output_type": "display_data",
          "data": {
            "image/png": "[encoded data removed]",
            "text/plain": [
              "<Figure size 432x288 with 1 Axes>"
            ]
          },
          "metadata": {
            "needs_background": "light"
          }
        }
      ]
    },
    {
      "cell_type": "markdown",
      "metadata": {
        "id": "IH9DgTwaE3K5"
      },
      "source": [
        "This model has again performed very similar to the previous models. However, as you can see on the loss graph the overfitting has been reduced by quite a lot due to the dropout layer."
      ]
    },
    {
      "cell_type": "markdown",
      "metadata": {
        "id": "39YbGSrgFhYt"
      },
      "source": [
        "|    Model    |    Results    |\n",
        "|--------|--------|\n",
        "|   #1 Baseline: 2 layers, 8,1 units    |     Lowest loss: below 0.3%, Highest accuracy: 89%, Some overfitting   |\n",
        "|    #2 Scaling up: 2 layers, 16,1 units    |    Lowest loss: below 0.3%, Highest accuracy: 88.9%, Much more overfitting    |\n",
        "|    #3 Dropout(0.5): 3 layers, 16,1 units    |    Lowest loss: below 0.3%, Highest accuracy: 88.98%, Overfitting reduced     |"
      ]
    },
    {
      "cell_type": "markdown",
      "metadata": {
        "id": "HQMxycG4GLh5"
      },
      "source": [
        "The next thing I am going to do is change the model architecture. I will be adding another dense layer with 16 units. This will increase the model complexity and could increase the accuracy."
      ]
    },
    {
      "cell_type": "code",
      "metadata": {
        "colab": {
          "base_uri": "https://localhost:8080/"
        },
        "id": "RAeNEImgGzdk",
        "outputId": "84988d31-671f-4386-efba-8b73987aed79"
      },
      "source": [
        "# The model definition, adding layers\n",
        "model = models.Sequential()\n",
        "model.add(layers.Dense(16, activation = 'relu', input_shape = (10000,)))\n",
        "model.add(layers.Dropout(0.5))\n",
        "model.add(layers.Dense(16, activation = 'relu'))\n",
        "model.add(layers.Dense(1, activation = 'sigmoid'))\n",
        "\n",
        "# Compiling the model with a loss function and an optimizer\n",
        "model.compile(optimizer='rmsprop',\n",
        "             loss='binary_crossentropy',\n",
        "             metrics=['accuracy'])\n",
        "\n",
        "# Training the model\n",
        "history = model.fit(partial_x_train, \n",
        "                    partial_y_train,\n",
        "                    epochs = 20,\n",
        "                    batch_size = 512,\n",
        "                    validation_data = (x_val, y_val))"
      ],
      "execution_count": 16,
      "outputs": [
        {
          "output_type": "stream",
          "name": "stdout",
          "text": [
            "Epoch 1/20\n",
            "30/30 [==============================] - 1s 27ms/step - loss: 0.5764 - accuracy: 0.7222 - val_loss: 0.4400 - val_accuracy: 0.8411\n",
            "Epoch 2/20\n",
            "30/30 [==============================] - 1s 22ms/step - loss: 0.4213 - accuracy: 0.8449 - val_loss: 0.3400 - val_accuracy: 0.8809\n",
            "Epoch 3/20\n",
            "30/30 [==============================] - 1s 20ms/step - loss: 0.3369 - accuracy: 0.8795 - val_loss: 0.3012 - val_accuracy: 0.8851\n",
            "Epoch 4/20\n",
            "30/30 [==============================] - 1s 21ms/step - loss: 0.2812 - accuracy: 0.9050 - val_loss: 0.2909 - val_accuracy: 0.8828\n",
            "Epoch 5/20\n",
            "30/30 [==============================] - 1s 21ms/step - loss: 0.2370 - accuracy: 0.9180 - val_loss: 0.2921 - val_accuracy: 0.8862\n",
            "Epoch 6/20\n",
            "30/30 [==============================] - 1s 20ms/step - loss: 0.2097 - accuracy: 0.9315 - val_loss: 0.2774 - val_accuracy: 0.8910\n",
            "Epoch 7/20\n",
            "30/30 [==============================] - 1s 21ms/step - loss: 0.1811 - accuracy: 0.9378 - val_loss: 0.2826 - val_accuracy: 0.8916\n",
            "Epoch 8/20\n",
            "30/30 [==============================] - 1s 21ms/step - loss: 0.1604 - accuracy: 0.9478 - val_loss: 0.2931 - val_accuracy: 0.8909\n",
            "Epoch 9/20\n",
            "30/30 [==============================] - 1s 21ms/step - loss: 0.1403 - accuracy: 0.9537 - val_loss: 0.2992 - val_accuracy: 0.8909\n",
            "Epoch 10/20\n",
            "30/30 [==============================] - 1s 21ms/step - loss: 0.1221 - accuracy: 0.9610 - val_loss: 0.3502 - val_accuracy: 0.8835\n",
            "Epoch 11/20\n",
            "30/30 [==============================] - 1s 21ms/step - loss: 0.1051 - accuracy: 0.9661 - val_loss: 0.3354 - val_accuracy: 0.8894\n",
            "Epoch 12/20\n",
            "30/30 [==============================] - 1s 21ms/step - loss: 0.0937 - accuracy: 0.9701 - val_loss: 0.3586 - val_accuracy: 0.8855\n",
            "Epoch 13/20\n",
            "30/30 [==============================] - 1s 22ms/step - loss: 0.0829 - accuracy: 0.9735 - val_loss: 0.3999 - val_accuracy: 0.8832\n",
            "Epoch 14/20\n",
            "30/30 [==============================] - 1s 21ms/step - loss: 0.0745 - accuracy: 0.9761 - val_loss: 0.4141 - val_accuracy: 0.8846\n",
            "Epoch 15/20\n",
            "30/30 [==============================] - 1s 21ms/step - loss: 0.0658 - accuracy: 0.9800 - val_loss: 0.4427 - val_accuracy: 0.8866\n",
            "Epoch 16/20\n",
            "30/30 [==============================] - 1s 22ms/step - loss: 0.0594 - accuracy: 0.9811 - val_loss: 0.4905 - val_accuracy: 0.8842\n",
            "Epoch 17/20\n",
            "30/30 [==============================] - 1s 20ms/step - loss: 0.0529 - accuracy: 0.9831 - val_loss: 0.5220 - val_accuracy: 0.8820\n",
            "Epoch 18/20\n",
            "30/30 [==============================] - 1s 21ms/step - loss: 0.0482 - accuracy: 0.9857 - val_loss: 0.5125 - val_accuracy: 0.8847\n",
            "Epoch 19/20\n",
            "30/30 [==============================] - 1s 21ms/step - loss: 0.0476 - accuracy: 0.9849 - val_loss: 0.5459 - val_accuracy: 0.8817\n",
            "Epoch 20/20\n",
            "30/30 [==============================] - 1s 20ms/step - loss: 0.0443 - accuracy: 0.9871 - val_loss: 0.5876 - val_accuracy: 0.8838\n"
          ]
        }
      ]
    },
    {
      "cell_type": "code",
      "metadata": {
        "colab": {
          "base_uri": "https://localhost:8080/",
          "height": 295
        },
        "id": "uHP5_nDCHwRS",
        "outputId": "a52dc39b-f91b-4d7e-e01e-b162860975cb"
      },
      "source": [
        "plot_loss()"
      ],
      "execution_count": 17,
      "outputs": [
        {
          "output_type": "display_data",
          "data": {
            "image/png": "[encoded data removed]",
            "text/plain": [
              "<Figure size 432x288 with 1 Axes>"
            ]
          },
          "metadata": {
            "needs_background": "light"
          }
        }
      ]
    },
    {
      "cell_type": "code",
      "metadata": {
        "colab": {
          "base_uri": "https://localhost:8080/",
          "height": 295
        },
        "id": "MUZq18SaH0j_",
        "outputId": "44f87eb8-0f43-4c56-ed26-574d2e71a0f1"
      },
      "source": [
        "plot_acc()"
      ],
      "execution_count": 18,
      "outputs": [
        {
          "output_type": "display_data",
          "data": {
            "image/png": "[encoded data removed]",
            "text/plain": [
              "<Figure size 432x288 with 1 Axes>"
            ]
          },
          "metadata": {
            "needs_background": "light"
          }
        }
      ]
    },
    {
      "cell_type": "markdown",
      "metadata": {
        "id": "anU5Cvf0H3xQ"
      },
      "source": [
        "It seems with this model the lowest loss has increased by hitting 0.3% at around 4 epochs. After this, the loss increases a lot again showing overfitting. The accuracy is higher but it is still very similar to the previous models\n",
        "\n",
        "This shows to me that adding an extra layer doesnt provide much, as it has not increased the accuracy but it has increased overfitting in the loss. Therefore, I will not be adding an extra dense layer into my final model."
      ]
    },
    {
      "cell_type": "markdown",
      "metadata": {
        "id": "wk6-_DS6JCiv"
      },
      "source": [
        "|    Model    |    Results    |\n",
        "|--------|--------|\n",
        "|   #1 Baseline: 2 layers, 8,1 units    |     Lowest loss: below 0.3%, Highest accuracy: 89%, Some overfitting   |\n",
        "|    #2 Scaling up: 2 layers, 16,1 units    |    Lowest loss: below 0.3%, Highest accuracy: 88.9%, Much more overfitting    |\n",
        "|    #3 Dropout(0.5): 3 layers, 16,1 units    |    Lowest loss: below 0.3%, Highest accuracy: 88.98%, Overfitting reduced     |\n",
        "|    #4 Extra layer: 4 layers, 16,16,1 units    |    Lowest loss: 0.3%, Highest accuracy: 89.16%, High amount of overfitting    |"
      ]
    },
    {
      "cell_type": "markdown",
      "metadata": {
        "id": "IlIsIUodJqLc"
      },
      "source": [
        "With this model, I will be adding another new hyperparameter. This will be L2 regularization. With L2 regularization, the cost added is proportional to the square of the value of the weight coefficients. To do this I will have to import regularizers."
      ]
    },
    {
      "cell_type": "code",
      "metadata": {
        "colab": {
          "base_uri": "https://localhost:8080/"
        },
        "id": "fYEwaxD-KlNF",
        "outputId": "9aada2aa-d3e3-4b21-a71b-6ce248ce4b3b"
      },
      "source": [
        "from keras import regularizers\n",
        "\n",
        "# The model definition, adding layers\n",
        "model = models.Sequential()\n",
        "model.add(layers.Dense(16, kernel_regularizer=regularizers.l2(0.001), activation = 'relu', input_shape = (10000,)))\n",
        "model.add(layers.Dropout(0.5))\n",
        "model.add(layers.Dense(1, activation = 'sigmoid'))\n",
        "\n",
        "# Compiling the model with a loss function and an optimizer\n",
        "model.compile(optimizer='rmsprop',\n",
        "             loss='binary_crossentropy',\n",
        "             metrics=['accuracy'])\n",
        "\n",
        "# Training the model\n",
        "history = model.fit(partial_x_train, \n",
        "                    partial_y_train,\n",
        "                    epochs = 20,\n",
        "                    batch_size = 512,\n",
        "                    validation_data = (x_val, y_val))"
      ],
      "execution_count": 21,
      "outputs": [
        {
          "output_type": "stream",
          "name": "stdout",
          "text": [
            "Epoch 1/20\n",
            "30/30 [==============================] - 2s 45ms/step - loss: 0.5778 - accuracy: 0.7374 - val_loss: 0.4710 - val_accuracy: 0.8388\n",
            "Epoch 2/20\n",
            "30/30 [==============================] - 1s 21ms/step - loss: 0.4370 - accuracy: 0.8518 - val_loss: 0.3923 - val_accuracy: 0.8801\n",
            "Epoch 3/20\n",
            "30/30 [==============================] - 1s 22ms/step - loss: 0.3750 - accuracy: 0.8804 - val_loss: 0.3640 - val_accuracy: 0.8823\n",
            "Epoch 4/20\n",
            "30/30 [==============================] - 1s 21ms/step - loss: 0.3455 - accuracy: 0.8922 - val_loss: 0.3443 - val_accuracy: 0.8882\n",
            "Epoch 5/20\n",
            "30/30 [==============================] - 1s 21ms/step - loss: 0.3228 - accuracy: 0.9023 - val_loss: 0.3359 - val_accuracy: 0.8895\n",
            "Epoch 6/20\n",
            "30/30 [==============================] - 1s 21ms/step - loss: 0.3056 - accuracy: 0.9108 - val_loss: 0.3369 - val_accuracy: 0.8837\n",
            "Epoch 7/20\n",
            "30/30 [==============================] - 1s 22ms/step - loss: 0.2925 - accuracy: 0.9167 - val_loss: 0.3285 - val_accuracy: 0.8875\n",
            "Epoch 8/20\n",
            "30/30 [==============================] - 1s 21ms/step - loss: 0.2796 - accuracy: 0.9235 - val_loss: 0.3273 - val_accuracy: 0.8856\n",
            "Epoch 9/20\n",
            "30/30 [==============================] - 1s 22ms/step - loss: 0.2704 - accuracy: 0.9266 - val_loss: 0.3434 - val_accuracy: 0.8807\n",
            "Epoch 10/20\n",
            "30/30 [==============================] - 1s 21ms/step - loss: 0.2630 - accuracy: 0.9283 - val_loss: 0.3271 - val_accuracy: 0.8862\n",
            "Epoch 11/20\n",
            "30/30 [==============================] - 1s 22ms/step - loss: 0.2549 - accuracy: 0.9299 - val_loss: 0.3355 - val_accuracy: 0.8829\n",
            "Epoch 12/20\n",
            "30/30 [==============================] - 1s 22ms/step - loss: 0.2530 - accuracy: 0.9327 - val_loss: 0.3322 - val_accuracy: 0.8830\n",
            "Epoch 13/20\n",
            "30/30 [==============================] - 1s 22ms/step - loss: 0.2460 - accuracy: 0.9361 - val_loss: 0.3447 - val_accuracy: 0.8801\n",
            "Epoch 14/20\n",
            "30/30 [==============================] - 1s 22ms/step - loss: 0.2435 - accuracy: 0.9359 - val_loss: 0.3350 - val_accuracy: 0.8825\n",
            "Epoch 15/20\n",
            "30/30 [==============================] - 1s 21ms/step - loss: 0.2348 - accuracy: 0.9411 - val_loss: 0.3356 - val_accuracy: 0.8840\n",
            "Epoch 16/20\n",
            "30/30 [==============================] - 1s 21ms/step - loss: 0.2339 - accuracy: 0.9399 - val_loss: 0.3447 - val_accuracy: 0.8807\n",
            "Epoch 17/20\n",
            "30/30 [==============================] - 1s 21ms/step - loss: 0.2281 - accuracy: 0.9447 - val_loss: 0.3373 - val_accuracy: 0.8832\n",
            "Epoch 18/20\n",
            "30/30 [==============================] - 1s 21ms/step - loss: 0.2234 - accuracy: 0.9456 - val_loss: 0.3638 - val_accuracy: 0.8744\n",
            "Epoch 19/20\n",
            "30/30 [==============================] - 1s 22ms/step - loss: 0.2220 - accuracy: 0.9447 - val_loss: 0.3704 - val_accuracy: 0.8713\n",
            "Epoch 20/20\n",
            "30/30 [==============================] - 1s 22ms/step - loss: 0.2204 - accuracy: 0.9461 - val_loss: 0.3431 - val_accuracy: 0.8812\n"
          ]
        }
      ]
    },
    {
      "cell_type": "code",
      "metadata": {
        "colab": {
          "base_uri": "https://localhost:8080/",
          "height": 295
        },
        "id": "M3ZK0RrzLwMh",
        "outputId": "b6f9f1a2-82c1-43c1-8a1a-bf725f578fcd"
      },
      "source": [
        "plot_loss()"
      ],
      "execution_count": 22,
      "outputs": [
        {
          "output_type": "display_data",
          "data": {
            "image/png": "[encoded data removed]",
            "text/plain": [
              "<Figure size 432x288 with 1 Axes>"
            ]
          },
          "metadata": {
            "needs_background": "light"
          }
        }
      ]
    },
    {
      "cell_type": "code",
      "metadata": {
        "colab": {
          "base_uri": "https://localhost:8080/",
          "height": 295
        },
        "id": "UFPHv-TPL6yO",
        "outputId": "c85a9214-ddba-4431-9d0a-22f6c511f5a6"
      },
      "source": [
        "plot_acc()"
      ],
      "execution_count": 23,
      "outputs": [
        {
          "output_type": "display_data",
          "data": {
            "image/png": "[encoded data removed]",
            "text/plain": [
              "<Figure size 432x288 with 1 Axes>"
            ]
          },
          "metadata": {
            "needs_background": "light"
          }
        }
      ]
    },
    {
      "cell_type": "markdown",
      "metadata": {
        "id": "-x729VGSMCFW"
      },
      "source": [
        "With both the dropout layer and the l2 regularization, overfitting has been reduced by a lot. The accuracy is still similar with the previous models. Although the lowest loss has increased a bit, it is still consistent with the results of the other models"
      ]
    },
    {
      "cell_type": "markdown",
      "metadata": {
        "id": "D2RYXtmxMvUZ"
      },
      "source": [
        "|    Model    |    Results    |\n",
        "|--------|--------|\n",
        "|   #1 Baseline: 2 layers, 8,1 units    |     Lowest loss: below 0.3%, Highest accuracy: 89%, Some overfitting   |\n",
        "|    #2 Scaling up: 2 layers, 16,1 units    |    Lowest loss: below 0.3%, Highest accuracy: 88.9%, Much more overfitting    |\n",
        "|    #3 Dropout(0.5): 3 layers, 16,1 units    |    Lowest loss: below 0.3%, Highest accuracy: 88.98%, Overfitting reduced     |\n",
        "|    #4 Extra layer: 4 layers, 16,16,1 units    |    Lowest loss: 0.3%, Highest accuracy: 89.16%, High amount of overfitting    |\n",
        "|    #5 l2: 3 layers, 16,1 units    |    Lowest loss: 0.33%, Highest accuracy: 88.95%, Overfitting reduced by a lot    |"
      ]
    },
    {
      "cell_type": "markdown",
      "metadata": {
        "id": "j--Kr4mtNYEC"
      },
      "source": [
        "I will stop with the iterations there. Anymore iterations will increase the chances of information leaking between the validation and training sets which will result in unreliable results."
      ]
    },
    {
      "cell_type": "markdown",
      "metadata": {
        "id": "yNfksRZpuwvy"
      },
      "source": [
        "## Results"
      ]
    },
    {
      "cell_type": "markdown",
      "metadata": {
        "id": "xBS7KAYLvIvd"
      },
      "source": [
        "Throughout all of the models, the overfitting started at around 8 epochs. So for this new model I will only train it for 8 epochs.\n",
        "\n",
        "Since this is the final model, I will be training it with all of the training data and I will be evaluating it with the test data."
      ]
    },
    {
      "cell_type": "code",
      "metadata": {
        "colab": {
          "base_uri": "https://localhost:8080/"
        },
        "id": "SIXfF9XGvzYv",
        "outputId": "1cb612d5-1eed-4fff-aab7-67513f1a8afc"
      },
      "source": [
        "from keras import regularizers\n",
        "\n",
        "# The model definition, adding layers\n",
        "model = models.Sequential()\n",
        "model.add(layers.Dense(16, kernel_regularizer=regularizers.l2(0.001), activation = 'relu', input_shape = (10000,)))\n",
        "model.add(layers.Dropout(0.5))\n",
        "model.add(layers.Dense(1, activation = 'sigmoid'))\n",
        "\n",
        "# Compiling the model with a loss function and an optimizer\n",
        "model.compile(optimizer='rmsprop',\n",
        "             loss='binary_crossentropy',\n",
        "             metrics=['accuracy'])\n",
        "\n",
        "# Training the model on all of the training data\n",
        "model.fit(x_train, y_train, epochs = 11, batch_size = 512)\n",
        "\n",
        "# Evaluating with test data\n",
        "results = model.evaluate(x_test, y_test)"
      ],
      "execution_count": 4,
      "outputs": [
        {
          "output_type": "stream",
          "name": "stdout",
          "text": [
            "Epoch 1/11\n",
            "49/49 [==============================] - 2s 29ms/step - loss: 0.5194 - accuracy: 0.7849\n",
            "Epoch 2/11\n",
            "49/49 [==============================] - 1s 28ms/step - loss: 0.3845 - accuracy: 0.8714\n",
            "Epoch 3/11\n",
            "49/49 [==============================] - 1s 29ms/step - loss: 0.3400 - accuracy: 0.8892\n",
            "Epoch 4/11\n",
            "49/49 [==============================] - 1s 28ms/step - loss: 0.3163 - accuracy: 0.8987\n",
            "Epoch 5/11\n",
            "49/49 [==============================] - 1s 28ms/step - loss: 0.3042 - accuracy: 0.9073\n",
            "Epoch 6/11\n",
            "49/49 [==============================] - 1s 29ms/step - loss: 0.2893 - accuracy: 0.9122\n",
            "Epoch 7/11\n",
            "49/49 [==============================] - 1s 28ms/step - loss: 0.2832 - accuracy: 0.9162\n",
            "Epoch 8/11\n",
            "49/49 [==============================] - 1s 29ms/step - loss: 0.2741 - accuracy: 0.9196\n",
            "Epoch 9/11\n",
            "49/49 [==============================] - 1s 28ms/step - loss: 0.2691 - accuracy: 0.9215\n",
            "Epoch 10/11\n",
            "49/49 [==============================] - 1s 28ms/step - loss: 0.2632 - accuracy: 0.9249\n",
            "Epoch 11/11\n",
            "49/49 [==============================] - 1s 29ms/step - loss: 0.2595 - accuracy: 0.9248\n",
            "782/782 [==============================] - 2s 3ms/step - loss: 0.3306 - accuracy: 0.8846\n"
          ]
        }
      ]
    },
    {
      "cell_type": "markdown",
      "metadata": {
        "id": "JDIntPk8w2lS"
      },
      "source": [
        "The final model has achieved 0.3% loss and 88.46% accuracy on the whole dataset, wihch has been the same through the other models aswell with the validation sets. This proves that the network has been trained correctly."
      ]
    },
    {
      "cell_type": "markdown",
      "metadata": {
        "id": "UgLz_uznxdGE"
      },
      "source": [
        "## Conclusion"
      ]
    },
    {
      "cell_type": "markdown",
      "metadata": {
        "id": "b6jDXt7Rxet5"
      },
      "source": [
        "Throughout this investigation, multiple models were created to identify a final optimum model, that can efficiently solve this problem with the IMDB dataset.\n",
        "\n",
        "The hypotheses that were made during this investigation:\n",
        "\n",
        " - The output can be predicted given the inputs\n",
        " \n",
        " - The available data is sufficiently informative to learn the relationship \n",
        "\n",
        "My results have proven these hypotheses because when the model was evaluated against the unseen test dataset, the results were as consistent as when it was evaluated with the validation/training sets. This shows that the outputs can be predicted from the inputs. This has also proved that the evaluated method I chose was the correct one as I did not have to change to another, such s K-fold validation.\n",
        "\n",
        "If I was able to iterate the model more times, I would have experimented with the tanh activation, as well as experimented with a higher unit count.\n",
        "\n",
        "But even without these, the experiment has proven to be successful."
      ]
    }
  ]
}